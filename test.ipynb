{
  "metadata": {
    "language_info": {
      "codemirror_mode": {
        "name": "python",
        "version": 3
      },
      "file_extension": ".py",
      "mimetype": "text/x-python",
      "name": "python",
      "nbconvert_exporter": "python",
      "pygments_lexer": "ipython3",
      "version": "3.8"
    },
    "kernelspec": {
      "name": "python",
      "display_name": "Python (Pyodide)",
      "language": "python"
    }
  },
  "nbformat_minor": 4,
  "nbformat": 4,
  "cells": [
    {
      "cell_type": "code",
      "source": "import pandas as pd\nimport numpy as np",
      "metadata": {
        "trusted": true
      },
      "execution_count": 1,
      "outputs": []
    },
    {
      "cell_type": "code",
      "source": "df = pd.read_csv(\"missing_data.csv\")\ndf",
      "metadata": {
        "trusted": true
      },
      "execution_count": 2,
      "outputs": [
        {
          "execution_count": 2,
          "output_type": "execute_result",
          "data": {
            "text/plain": "     ID        Name                    Age  Email\n0     1    Person 1    person1@example.com   46.0\n1     2    Person 2    person2@example.com   20.0\n2     3    Person 3                    NaN    NaN\n3     4    Person 4    person4@example.com   55.0\n4     5    Person 5                    NaN    NaN\n..  ...         ...                    ...    ...\n95   96   Person 96   person96@example.com    NaN\n96   97   Person 97                    NaN    NaN\n97   98   Person 98                    NaN   58.0\n98   99   Person 99                    NaN    NaN\n99  100  Person 100  person100@example.com    NaN\n\n[100 rows x 4 columns]",
            "text/html": "<div>\n<style scoped>\n    .dataframe tbody tr th:only-of-type {\n        vertical-align: middle;\n    }\n\n    .dataframe tbody tr th {\n        vertical-align: top;\n    }\n\n    .dataframe thead th {\n        text-align: right;\n    }\n</style>\n<table border=\"1\" class=\"dataframe\">\n  <thead>\n    <tr style=\"text-align: right;\">\n      <th></th>\n      <th>ID</th>\n      <th>Name</th>\n      <th>Age</th>\n      <th>Email</th>\n    </tr>\n  </thead>\n  <tbody>\n    <tr>\n      <th>0</th>\n      <td>1</td>\n      <td>Person 1</td>\n      <td>person1@example.com</td>\n      <td>46.0</td>\n    </tr>\n    <tr>\n      <th>1</th>\n      <td>2</td>\n      <td>Person 2</td>\n      <td>person2@example.com</td>\n      <td>20.0</td>\n    </tr>\n    <tr>\n      <th>2</th>\n      <td>3</td>\n      <td>Person 3</td>\n      <td>NaN</td>\n      <td>NaN</td>\n    </tr>\n    <tr>\n      <th>3</th>\n      <td>4</td>\n      <td>Person 4</td>\n      <td>person4@example.com</td>\n      <td>55.0</td>\n    </tr>\n    <tr>\n      <th>4</th>\n      <td>5</td>\n      <td>Person 5</td>\n      <td>NaN</td>\n      <td>NaN</td>\n    </tr>\n    <tr>\n      <th>...</th>\n      <td>...</td>\n      <td>...</td>\n      <td>...</td>\n      <td>...</td>\n    </tr>\n    <tr>\n      <th>95</th>\n      <td>96</td>\n      <td>Person 96</td>\n      <td>person96@example.com</td>\n      <td>NaN</td>\n    </tr>\n    <tr>\n      <th>96</th>\n      <td>97</td>\n      <td>Person 97</td>\n      <td>NaN</td>\n      <td>NaN</td>\n    </tr>\n    <tr>\n      <th>97</th>\n      <td>98</td>\n      <td>Person 98</td>\n      <td>NaN</td>\n      <td>58.0</td>\n    </tr>\n    <tr>\n      <th>98</th>\n      <td>99</td>\n      <td>Person 99</td>\n      <td>NaN</td>\n      <td>NaN</td>\n    </tr>\n    <tr>\n      <th>99</th>\n      <td>100</td>\n      <td>Person 100</td>\n      <td>person100@example.com</td>\n      <td>NaN</td>\n    </tr>\n  </tbody>\n</table>\n<p>100 rows × 4 columns</p>\n</div>"
          },
          "metadata": {}
        }
      ]
    },
    {
      "cell_type": "code",
      "source": "df = df.rename(columns={'Age':'Email', 'Email':'Age'})\ndf",
      "metadata": {
        "trusted": true
      },
      "execution_count": 3,
      "outputs": [
        {
          "execution_count": 3,
          "output_type": "execute_result",
          "data": {
            "text/plain": "     ID        Name                  Email   Age\n0     1    Person 1    person1@example.com  46.0\n1     2    Person 2    person2@example.com  20.0\n2     3    Person 3                    NaN   NaN\n3     4    Person 4    person4@example.com  55.0\n4     5    Person 5                    NaN   NaN\n..  ...         ...                    ...   ...\n95   96   Person 96   person96@example.com   NaN\n96   97   Person 97                    NaN   NaN\n97   98   Person 98                    NaN  58.0\n98   99   Person 99                    NaN   NaN\n99  100  Person 100  person100@example.com   NaN\n\n[100 rows x 4 columns]",
            "text/html": "<div>\n<style scoped>\n    .dataframe tbody tr th:only-of-type {\n        vertical-align: middle;\n    }\n\n    .dataframe tbody tr th {\n        vertical-align: top;\n    }\n\n    .dataframe thead th {\n        text-align: right;\n    }\n</style>\n<table border=\"1\" class=\"dataframe\">\n  <thead>\n    <tr style=\"text-align: right;\">\n      <th></th>\n      <th>ID</th>\n      <th>Name</th>\n      <th>Email</th>\n      <th>Age</th>\n    </tr>\n  </thead>\n  <tbody>\n    <tr>\n      <th>0</th>\n      <td>1</td>\n      <td>Person 1</td>\n      <td>person1@example.com</td>\n      <td>46.0</td>\n    </tr>\n    <tr>\n      <th>1</th>\n      <td>2</td>\n      <td>Person 2</td>\n      <td>person2@example.com</td>\n      <td>20.0</td>\n    </tr>\n    <tr>\n      <th>2</th>\n      <td>3</td>\n      <td>Person 3</td>\n      <td>NaN</td>\n      <td>NaN</td>\n    </tr>\n    <tr>\n      <th>3</th>\n      <td>4</td>\n      <td>Person 4</td>\n      <td>person4@example.com</td>\n      <td>55.0</td>\n    </tr>\n    <tr>\n      <th>4</th>\n      <td>5</td>\n      <td>Person 5</td>\n      <td>NaN</td>\n      <td>NaN</td>\n    </tr>\n    <tr>\n      <th>...</th>\n      <td>...</td>\n      <td>...</td>\n      <td>...</td>\n      <td>...</td>\n    </tr>\n    <tr>\n      <th>95</th>\n      <td>96</td>\n      <td>Person 96</td>\n      <td>person96@example.com</td>\n      <td>NaN</td>\n    </tr>\n    <tr>\n      <th>96</th>\n      <td>97</td>\n      <td>Person 97</td>\n      <td>NaN</td>\n      <td>NaN</td>\n    </tr>\n    <tr>\n      <th>97</th>\n      <td>98</td>\n      <td>Person 98</td>\n      <td>NaN</td>\n      <td>58.0</td>\n    </tr>\n    <tr>\n      <th>98</th>\n      <td>99</td>\n      <td>Person 99</td>\n      <td>NaN</td>\n      <td>NaN</td>\n    </tr>\n    <tr>\n      <th>99</th>\n      <td>100</td>\n      <td>Person 100</td>\n      <td>person100@example.com</td>\n      <td>NaN</td>\n    </tr>\n  </tbody>\n</table>\n<p>100 rows × 4 columns</p>\n</div>"
          },
          "metadata": {}
        }
      ]
    },
    {
      "cell_type": "code",
      "source": "total_cells = np.product(df.shape)\n\nmissing_values_count = df.isnull().sum()\ntotal_missing = missing_values_count.sum()\n\npercent_missing = (total_missing / total_cells) * 100\n\nprint('Total Cells: ', total_cells)\nprint('Total Missing: ', total_missing)\nprint('Missing Percentage', percent_missing)",
      "metadata": {
        "trusted": true
      },
      "execution_count": 4,
      "outputs": [
        {
          "name": "stdout",
          "text": "Total Cells:  400\nTotal Missing:  107\nMissing Percentage 26.75\n",
          "output_type": "stream"
        }
      ]
    },
    {
      "cell_type": "code",
      "source": "ser = df['Age'].copy()\n\nfor i in range(len(ser)):\n    curr_class = str(ser.iloc[i]).replace(\".0\", \"\")\n\n    if curr_class != 'nan':\n        ser.iloc[i] = curr_class + ' Years old'\n\ndf['Age'] = ser\n\ndf.dropna(inplace=True)\ndf.reset_index(inplace=True, drop=True)\ndf\n    ",
      "metadata": {
        "trusted": true
      },
      "execution_count": 5,
      "outputs": [
        {
          "execution_count": 5,
          "output_type": "execute_result",
          "data": {
            "text/plain": "    ID       Name                 Email           Age\n0    1   Person 1   person1@example.com  46 Years old\n1    2   Person 2   person2@example.com  20 Years old\n2    4   Person 4   person4@example.com  55 Years old\n3   11  Person 11  person11@example.com  26 Years old\n4   15  Person 15  person15@example.com  65 Years old\n5   19  Person 19  person19@example.com  22 Years old\n6   20  Person 20  person20@example.com  54 Years old\n7   22  Person 22  person22@example.com  58 Years old\n8   26  Person 26  person26@example.com  47 Years old\n9   30  Person 30  person30@example.com  27 Years old\n10  36  Person 36  person36@example.com  63 Years old\n11  38  Person 38  person38@example.com  47 Years old\n12  39  Person 39  person39@example.com  18 Years old\n13  40  Person 40  person40@example.com  30 Years old\n14  41  Person 41  person41@example.com  20 Years old\n15  44  Person 44  person44@example.com  30 Years old\n16  47  Person 47  person47@example.com  46 Years old\n17  57  Person 57  person57@example.com  35 Years old\n18  61  Person 61  person61@example.com  22 Years old\n19  63  Person 63  person63@example.com  63 Years old\n20  70  Person 70  person70@example.com  52 Years old\n21  77  Person 77  person77@example.com  64 Years old\n22  87  Person 87  person87@example.com  54 Years old\n23  88  Person 88  person88@example.com  63 Years old\n24  89  Person 89  person89@example.com  52 Years old",
            "text/html": "<div>\n<style scoped>\n    .dataframe tbody tr th:only-of-type {\n        vertical-align: middle;\n    }\n\n    .dataframe tbody tr th {\n        vertical-align: top;\n    }\n\n    .dataframe thead th {\n        text-align: right;\n    }\n</style>\n<table border=\"1\" class=\"dataframe\">\n  <thead>\n    <tr style=\"text-align: right;\">\n      <th></th>\n      <th>ID</th>\n      <th>Name</th>\n      <th>Email</th>\n      <th>Age</th>\n    </tr>\n  </thead>\n  <tbody>\n    <tr>\n      <th>0</th>\n      <td>1</td>\n      <td>Person 1</td>\n      <td>person1@example.com</td>\n      <td>46 Years old</td>\n    </tr>\n    <tr>\n      <th>1</th>\n      <td>2</td>\n      <td>Person 2</td>\n      <td>person2@example.com</td>\n      <td>20 Years old</td>\n    </tr>\n    <tr>\n      <th>2</th>\n      <td>4</td>\n      <td>Person 4</td>\n      <td>person4@example.com</td>\n      <td>55 Years old</td>\n    </tr>\n    <tr>\n      <th>3</th>\n      <td>11</td>\n      <td>Person 11</td>\n      <td>person11@example.com</td>\n      <td>26 Years old</td>\n    </tr>\n    <tr>\n      <th>4</th>\n      <td>15</td>\n      <td>Person 15</td>\n      <td>person15@example.com</td>\n      <td>65 Years old</td>\n    </tr>\n    <tr>\n      <th>5</th>\n      <td>19</td>\n      <td>Person 19</td>\n      <td>person19@example.com</td>\n      <td>22 Years old</td>\n    </tr>\n    <tr>\n      <th>6</th>\n      <td>20</td>\n      <td>Person 20</td>\n      <td>person20@example.com</td>\n      <td>54 Years old</td>\n    </tr>\n    <tr>\n      <th>7</th>\n      <td>22</td>\n      <td>Person 22</td>\n      <td>person22@example.com</td>\n      <td>58 Years old</td>\n    </tr>\n    <tr>\n      <th>8</th>\n      <td>26</td>\n      <td>Person 26</td>\n      <td>person26@example.com</td>\n      <td>47 Years old</td>\n    </tr>\n    <tr>\n      <th>9</th>\n      <td>30</td>\n      <td>Person 30</td>\n      <td>person30@example.com</td>\n      <td>27 Years old</td>\n    </tr>\n    <tr>\n      <th>10</th>\n      <td>36</td>\n      <td>Person 36</td>\n      <td>person36@example.com</td>\n      <td>63 Years old</td>\n    </tr>\n    <tr>\n      <th>11</th>\n      <td>38</td>\n      <td>Person 38</td>\n      <td>person38@example.com</td>\n      <td>47 Years old</td>\n    </tr>\n    <tr>\n      <th>12</th>\n      <td>39</td>\n      <td>Person 39</td>\n      <td>person39@example.com</td>\n      <td>18 Years old</td>\n    </tr>\n    <tr>\n      <th>13</th>\n      <td>40</td>\n      <td>Person 40</td>\n      <td>person40@example.com</td>\n      <td>30 Years old</td>\n    </tr>\n    <tr>\n      <th>14</th>\n      <td>41</td>\n      <td>Person 41</td>\n      <td>person41@example.com</td>\n      <td>20 Years old</td>\n    </tr>\n    <tr>\n      <th>15</th>\n      <td>44</td>\n      <td>Person 44</td>\n      <td>person44@example.com</td>\n      <td>30 Years old</td>\n    </tr>\n    <tr>\n      <th>16</th>\n      <td>47</td>\n      <td>Person 47</td>\n      <td>person47@example.com</td>\n      <td>46 Years old</td>\n    </tr>\n    <tr>\n      <th>17</th>\n      <td>57</td>\n      <td>Person 57</td>\n      <td>person57@example.com</td>\n      <td>35 Years old</td>\n    </tr>\n    <tr>\n      <th>18</th>\n      <td>61</td>\n      <td>Person 61</td>\n      <td>person61@example.com</td>\n      <td>22 Years old</td>\n    </tr>\n    <tr>\n      <th>19</th>\n      <td>63</td>\n      <td>Person 63</td>\n      <td>person63@example.com</td>\n      <td>63 Years old</td>\n    </tr>\n    <tr>\n      <th>20</th>\n      <td>70</td>\n      <td>Person 70</td>\n      <td>person70@example.com</td>\n      <td>52 Years old</td>\n    </tr>\n    <tr>\n      <th>21</th>\n      <td>77</td>\n      <td>Person 77</td>\n      <td>person77@example.com</td>\n      <td>64 Years old</td>\n    </tr>\n    <tr>\n      <th>22</th>\n      <td>87</td>\n      <td>Person 87</td>\n      <td>person87@example.com</td>\n      <td>54 Years old</td>\n    </tr>\n    <tr>\n      <th>23</th>\n      <td>88</td>\n      <td>Person 88</td>\n      <td>person88@example.com</td>\n      <td>63 Years old</td>\n    </tr>\n    <tr>\n      <th>24</th>\n      <td>89</td>\n      <td>Person 89</td>\n      <td>person89@example.com</td>\n      <td>52 Years old</td>\n    </tr>\n  </tbody>\n</table>\n</div>"
          },
          "metadata": {}
        }
      ]
    },
    {
      "cell_type": "code",
      "source": "for column in df.columns:\n    print(column, df[column].dtype)",
      "metadata": {
        "trusted": true
      },
      "execution_count": 8,
      "outputs": [
        {
          "name": "stdout",
          "text": "ID int64\nName object\nEmail object\nAge object\n",
          "output_type": "stream"
        }
      ]
    },
    {
      "cell_type": "code",
      "source": "df.to_csv(\"cleaned_data.csv\", index=False)",
      "metadata": {
        "tags": [],
        "trusted": true
      },
      "execution_count": 9,
      "outputs": []
    }
  ]
}