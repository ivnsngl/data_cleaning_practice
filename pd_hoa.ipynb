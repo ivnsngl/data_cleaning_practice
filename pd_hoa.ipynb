{
  "metadata": {
    "language_info": {
      "codemirror_mode": {
        "name": "python",
        "version": 3
      },
      "file_extension": ".py",
      "mimetype": "text/x-python",
      "name": "python",
      "nbconvert_exporter": "python",
      "pygments_lexer": "ipython3",
      "version": "3.8"
    },
    "kernelspec": {
      "name": "python",
      "display_name": "Python (Pyodide)",
      "language": "python"
    }
  },
  "nbformat_minor": 4,
  "nbformat": 4,
  "cells": [
    {
      "cell_type": "code",
      "source": "import pandas as pd\nimport numpy as np",
      "metadata": {
        "trusted": true
      },
      "execution_count": 1,
      "outputs": []
    },
    {
      "cell_type": "code",
      "source": "df = pd.read_csv(\"pd_hoa_activities.csv\")\ndf",
      "metadata": {
        "trusted": true
      },
      "execution_count": 2,
      "outputs": [
        {
          "execution_count": 2,
          "output_type": "execute_result",
          "data": {
            "text/plain": "     pid task duration  age class\n0      0    1      146   72   HOA\n1      0    2      210   72   HOA\n2      0    3      241   72   HOA\n3      0    4      328   72   HOA\n4      0    5      229   72   HOA\n..   ...  ...      ...  ...   ...\n670   74    5      235   78    PD\n671   74    6       41   78    PD\n672   74    7       11   78    PD\n673   74    8        9   78    PD\n674   74  dot     1532   78    PD\n\n[675 rows x 5 columns]",
            "text/html": "<div>\n<style scoped>\n    .dataframe tbody tr th:only-of-type {\n        vertical-align: middle;\n    }\n\n    .dataframe tbody tr th {\n        vertical-align: top;\n    }\n\n    .dataframe thead th {\n        text-align: right;\n    }\n</style>\n<table border=\"1\" class=\"dataframe\">\n  <thead>\n    <tr style=\"text-align: right;\">\n      <th></th>\n      <th>pid</th>\n      <th>task</th>\n      <th>duration</th>\n      <th>age</th>\n      <th>class</th>\n    </tr>\n  </thead>\n  <tbody>\n    <tr>\n      <th>0</th>\n      <td>0</td>\n      <td>1</td>\n      <td>146</td>\n      <td>72</td>\n      <td>HOA</td>\n    </tr>\n    <tr>\n      <th>1</th>\n      <td>0</td>\n      <td>2</td>\n      <td>210</td>\n      <td>72</td>\n      <td>HOA</td>\n    </tr>\n    <tr>\n      <th>2</th>\n      <td>0</td>\n      <td>3</td>\n      <td>241</td>\n      <td>72</td>\n      <td>HOA</td>\n    </tr>\n    <tr>\n      <th>3</th>\n      <td>0</td>\n      <td>4</td>\n      <td>328</td>\n      <td>72</td>\n      <td>HOA</td>\n    </tr>\n    <tr>\n      <th>4</th>\n      <td>0</td>\n      <td>5</td>\n      <td>229</td>\n      <td>72</td>\n      <td>HOA</td>\n    </tr>\n    <tr>\n      <th>...</th>\n      <td>...</td>\n      <td>...</td>\n      <td>...</td>\n      <td>...</td>\n      <td>...</td>\n    </tr>\n    <tr>\n      <th>670</th>\n      <td>74</td>\n      <td>5</td>\n      <td>235</td>\n      <td>78</td>\n      <td>PD</td>\n    </tr>\n    <tr>\n      <th>671</th>\n      <td>74</td>\n      <td>6</td>\n      <td>41</td>\n      <td>78</td>\n      <td>PD</td>\n    </tr>\n    <tr>\n      <th>672</th>\n      <td>74</td>\n      <td>7</td>\n      <td>11</td>\n      <td>78</td>\n      <td>PD</td>\n    </tr>\n    <tr>\n      <th>673</th>\n      <td>74</td>\n      <td>8</td>\n      <td>9</td>\n      <td>78</td>\n      <td>PD</td>\n    </tr>\n    <tr>\n      <th>674</th>\n      <td>74</td>\n      <td>dot</td>\n      <td>1532</td>\n      <td>78</td>\n      <td>PD</td>\n    </tr>\n  </tbody>\n</table>\n<p>675 rows × 5 columns</p>\n</div>"
          },
          "metadata": {}
        }
      ]
    },
    {
      "cell_type": "code",
      "source": "# Replace \"?\" with NaN\ndf.replace(\"?\", np.NaN, inplace=True)",
      "metadata": {
        "trusted": true
      },
      "execution_count": 3,
      "outputs": []
    },
    {
      "cell_type": "code",
      "source": "print(df[\"class\"].value_counts())",
      "metadata": {
        "trusted": true
      },
      "execution_count": 4,
      "outputs": [
        {
          "name": "stdout",
          "text": "HOA            396\nPD             189\nhoa             27\nhealthy         27\nparkinson's      9\nParkinson's      9\npd               9\nParkinson        9\nName: class, dtype: int64\n",
          "output_type": "stream"
        }
      ]
    },
    {
      "cell_type": "code",
      "source": "# Clean class\ndef clean_class(df):\n    ser = df['class'].copy()\n    \n    for i in range(len(ser)):\n        curr_class = str(ser.iloc[i])\n        curr_class = curr_class.lower()\n        \n        if \"hoa\" in curr_class or \"healthy\" in curr_class:\n            ser.iloc[i] = \"HOA\"\n        elif \"pd\" in curr_class or \"parkinson's\" in curr_class or \"parkinson\":\n            ser.iloc[i] = \"PD\"\n    \n    df[\"class\"] = ser\n    \nclean_class(df)",
      "metadata": {
        "trusted": true
      },
      "execution_count": 5,
      "outputs": []
    },
    {
      "cell_type": "code",
      "source": "print(df[\"class\"].value_counts())",
      "metadata": {
        "trusted": true
      },
      "execution_count": 6,
      "outputs": [
        {
          "name": "stdout",
          "text": "HOA    450\nPD     225\nName: class, dtype: int64\n",
          "output_type": "stream"
        }
      ]
    },
    {
      "cell_type": "code",
      "source": "# Clean task\nactivities = {\"1\":\"Water plants\", \"2\":\"Fill medication dispenser\", \"3\":\"Wash counter top\", \"4\":\"Sweep and dust\", \n              \"5\":\"Cook\", \"6\":\"Wash hands\", \"7\":\"Perform the Timed Up and Go (TUG) test\", \n              \"8\":\"Perform TUG with questions being asked\", \"dot\":\"A day out task\"}\n\ndef clean_activities(df):\n    ser = df[\"task\"]\n    \n    for i in activities:\n        ser.replace(i, activities[i], inplace=True)\n\nclean_activities(df)",
      "metadata": {
        "trusted": true
      },
      "execution_count": 7,
      "outputs": []
    },
    {
      "cell_type": "code",
      "source": "# Drop nulls\ndf.dropna(inplace=True)\ndf",
      "metadata": {
        "trusted": true
      },
      "execution_count": 8,
      "outputs": [
        {
          "execution_count": 8,
          "output_type": "execute_result",
          "data": {
            "text/plain": "     pid                                    task duration  age class\n0      0                            Water plants      146   72   HOA\n1      0               Fill medication dispenser      210   72   HOA\n2      0                        Wash counter top      241   72   HOA\n3      0                          Sweep and dust      328   72   HOA\n4      0                                    Cook      229   72   HOA\n..   ...                                     ...      ...  ...   ...\n670   74                                    Cook      235   78    PD\n671   74                              Wash hands       41   78    PD\n672   74  Perform the Timed Up and Go (TUG) test       11   78    PD\n673   74  Perform TUG with questions being asked        9   78    PD\n674   74                          A day out task     1532   78    PD\n\n[665 rows x 5 columns]",
            "text/html": "<div>\n<style scoped>\n    .dataframe tbody tr th:only-of-type {\n        vertical-align: middle;\n    }\n\n    .dataframe tbody tr th {\n        vertical-align: top;\n    }\n\n    .dataframe thead th {\n        text-align: right;\n    }\n</style>\n<table border=\"1\" class=\"dataframe\">\n  <thead>\n    <tr style=\"text-align: right;\">\n      <th></th>\n      <th>pid</th>\n      <th>task</th>\n      <th>duration</th>\n      <th>age</th>\n      <th>class</th>\n    </tr>\n  </thead>\n  <tbody>\n    <tr>\n      <th>0</th>\n      <td>0</td>\n      <td>Water plants</td>\n      <td>146</td>\n      <td>72</td>\n      <td>HOA</td>\n    </tr>\n    <tr>\n      <th>1</th>\n      <td>0</td>\n      <td>Fill medication dispenser</td>\n      <td>210</td>\n      <td>72</td>\n      <td>HOA</td>\n    </tr>\n    <tr>\n      <th>2</th>\n      <td>0</td>\n      <td>Wash counter top</td>\n      <td>241</td>\n      <td>72</td>\n      <td>HOA</td>\n    </tr>\n    <tr>\n      <th>3</th>\n      <td>0</td>\n      <td>Sweep and dust</td>\n      <td>328</td>\n      <td>72</td>\n      <td>HOA</td>\n    </tr>\n    <tr>\n      <th>4</th>\n      <td>0</td>\n      <td>Cook</td>\n      <td>229</td>\n      <td>72</td>\n      <td>HOA</td>\n    </tr>\n    <tr>\n      <th>...</th>\n      <td>...</td>\n      <td>...</td>\n      <td>...</td>\n      <td>...</td>\n      <td>...</td>\n    </tr>\n    <tr>\n      <th>670</th>\n      <td>74</td>\n      <td>Cook</td>\n      <td>235</td>\n      <td>78</td>\n      <td>PD</td>\n    </tr>\n    <tr>\n      <th>671</th>\n      <td>74</td>\n      <td>Wash hands</td>\n      <td>41</td>\n      <td>78</td>\n      <td>PD</td>\n    </tr>\n    <tr>\n      <th>672</th>\n      <td>74</td>\n      <td>Perform the Timed Up and Go (TUG) test</td>\n      <td>11</td>\n      <td>78</td>\n      <td>PD</td>\n    </tr>\n    <tr>\n      <th>673</th>\n      <td>74</td>\n      <td>Perform TUG with questions being asked</td>\n      <td>9</td>\n      <td>78</td>\n      <td>PD</td>\n    </tr>\n    <tr>\n      <th>674</th>\n      <td>74</td>\n      <td>A day out task</td>\n      <td>1532</td>\n      <td>78</td>\n      <td>PD</td>\n    </tr>\n  </tbody>\n</table>\n<p>665 rows × 5 columns</p>\n</div>"
          },
          "metadata": {}
        }
      ]
    },
    {
      "cell_type": "code",
      "source": "# Check and change column types accordingly\ndf[\"duration\"] = df[\"duration\"].astype(np.int64)\nfor column in df.columns:\n    print(column, df[column].dtype)",
      "metadata": {
        "trusted": true
      },
      "execution_count": 9,
      "outputs": [
        {
          "name": "stdout",
          "text": "pid int64\ntask object\nduration int64\nage int64\nclass object\n",
          "output_type": "stream"
        }
      ]
    },
    {
      "cell_type": "code",
      "source": "# Reset index\ndf.reset_index(inplace=True)",
      "metadata": {
        "trusted": true
      },
      "execution_count": 10,
      "outputs": []
    },
    {
      "cell_type": "code",
      "source": "# Cleaned data\ndf.to_csv(\"cleaned_pd_hoa_activities.csv\", index=False)",
      "metadata": {
        "trusted": true
      },
      "execution_count": 11,
      "outputs": []
    },
    {
      "cell_type": "code",
      "source": "",
      "metadata": {},
      "execution_count": null,
      "outputs": []
    }
  ]
}